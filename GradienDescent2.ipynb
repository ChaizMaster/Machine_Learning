{
 "cells": [
  {
   "cell_type": "code",
   "execution_count": 1,
   "metadata": {},
   "outputs": [],
   "source": [
    "import numpy as np\n",
    "from numpy import savetxt"
   ]
  },
  {
   "cell_type": "code",
   "execution_count": 11,
   "metadata": {},
   "outputs": [],
   "source": [
    "def run():\n",
    "    data=np.genfromtxt('training_ccpp_x_y_train.csv',delimiter=\",\")\n",
    "    learning_rate = 0.000001\n",
    "    num_iterations = 100\n",
    "    m = gd(data, learning_rate, num_iterations)\n",
    "    return m[:-1],m[-1]\n",
    "def step_gradient(points, learn_rate, M):\n",
    "    N = points.shape[0]\n",
    "    num_col = points.shape[1]\n",
    "    new_M = np.zeros(num_col)\n",
    "    for i in range(N):\n",
    "        x = points[i, 0:num_col-1]\n",
    "        x = np.append(x, 1)\n",
    "        y = points[i, num_col-1]\n",
    "        for j in range(num_col):\n",
    "            new_M[j] += (-2/N) * (y - (M * x).sum()) * x[j]\n",
    "        M = M - (learn_rate * new_M)\n",
    "    return M\n",
    "\n",
    "def gd(points, learn_rate, num_iter):\n",
    "    cols = points.shape[1]\n",
    "    M = np.zeros(cols)\n",
    "    for i in range(num_iter):\n",
    "        M = step_gradient(points, learn_rate, M)\n",
    "#         print(i,\"Cost:\",cost(points,M))\n",
    "    return M\n",
    "def cost(points, M):\n",
    "    total_cost = 0\n",
    "    N = points.shape[0]\n",
    "    num_col = points.shape[1]\n",
    "    for i in range(N):\n",
    "        x = points[i, 0:num_col-1]\n",
    "        x = np.append(x, 1)\n",
    "        y = points[i,num_col-1]\n",
    "        total_cost += (y - (M * x).sum()) ** 2\n",
    "    total_cost = (1/N) * total_cost\n",
    "    return total_cost\n",
    "def predict():\n",
    "    data=np.genfromtxt('test_ccpp_x_test.csv',delimiter=\",\")\n",
    "    m,c=run()\n",
    "    y_pred=[]\n",
    "    for i in range(len(data)):\n",
    "        val=0\n",
    "        for j in range(len(data[0])):\n",
    "            val+=m[j]*data[i,j]\n",
    "        val+=c\n",
    "        y_pred.append(val)\n",
    "    return y_pred\n",
    "y_pred=predict()\n",
    "y_pred=np.around(y_pred,decimals=5)\n",
    "savetxt('predictions.csv',y_pred,delimiter=\",\")\n",
    "\n"
   ]
  },
  {
   "cell_type": "code",
   "execution_count": null,
   "metadata": {},
   "outputs": [],
   "source": []
  },
  {
   "cell_type": "code",
   "execution_count": null,
   "metadata": {},
   "outputs": [],
   "source": []
  }
 ],
 "metadata": {
  "kernelspec": {
   "display_name": "Python 3",
   "language": "python",
   "name": "python3"
  },
  "language_info": {
   "codemirror_mode": {
    "name": "ipython",
    "version": 3
   },
   "file_extension": ".py",
   "mimetype": "text/x-python",
   "name": "python",
   "nbconvert_exporter": "python",
   "pygments_lexer": "ipython3",
   "version": "3.7.4"
  }
 },
 "nbformat": 4,
 "nbformat_minor": 2
}
