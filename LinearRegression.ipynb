{
 "cells": [
  {
   "cell_type": "code",
   "execution_count": 2,
   "metadata": {},
   "outputs": [
    {
     "name": "stderr",
     "output_type": "stream",
     "text": [
      "C:\\Users\\Torre\\AppData\\Local\\Continuum\\anaconda3\\lib\\importlib\\_bootstrap.py:219: RuntimeWarning: numpy.ufunc size changed, may indicate binary incompatibility. Expected 192 from C header, got 216 from PyObject\n",
      "  return f(*args, **kwds)\n",
      "C:\\Users\\Torre\\AppData\\Local\\Continuum\\anaconda3\\lib\\importlib\\_bootstrap.py:219: RuntimeWarning: numpy.ufunc size changed, may indicate binary incompatibility. Expected 192 from C header, got 216 from PyObject\n",
      "  return f(*args, **kwds)\n"
     ]
    }
   ],
   "source": [
    "import numpy as np\n",
    "from sklearn.linear_model import LinearRegression\n",
    "import matplotlib.pyplot as plt\n",
    "from numpy import savetxt"
   ]
  },
  {
   "cell_type": "code",
   "execution_count": 3,
   "metadata": {},
   "outputs": [],
   "source": [
    "data=np.genfromtxt('training_boston_x_y_train.csv',delimiter=\",\")\n",
    "testData=np.genfromtxt('test_boston_x_test.csv',delimiter=\",\")"
   ]
  },
  {
   "cell_type": "code",
   "execution_count": 4,
   "metadata": {},
   "outputs": [],
   "source": [
    "x=data[:,:len(data)-1]\n",
    "y=data[:,-1]\n",
    "from sklearn import model_selection\n",
    "x_train,x_test,y_train,y_test=model_selection.train_test_split(x,y)"
   ]
  },
  {
   "cell_type": "code",
   "execution_count": 5,
   "metadata": {},
   "outputs": [
    {
     "name": "stdout",
     "output_type": "stream",
     "text": [
      "[24.5 28.7 25.1 19.5 50.  15.  22.6 28.5 23.8 36.  24.6 33.2 21.4 24.7\n",
      " 18.2 27.5 23.5 43.8 16.1 48.3 20.6 26.6  5.  17.9 36.5 23.7 20.2 15.4\n",
      " 18.9 31.  18.3 16.  22.6 20.  19.3 25.3 21.7 24.3 13.4 15.6 27.5 13.5\n",
      " 43.1 20.  23.  26.2 32.9  8.3 29.9 36.1 31.6 31.6 17.4 13.8 19.1 14.5\n",
      " 22.8 20.  17.4 14.9 20.7 30.7 24.8 19.2 20.1 23.1 37.  13.9 19.7 10.8\n",
      " 18.9 12.  17.2 22.  13.3 20.6 22.  22.3 22.2 14.5 22.9 12.6 21.1 36.4\n",
      " 16.6 19.9  8.1 13.8 17.4 16.5 19.6 24.  24.4 19.1 23.1]\n"
     ]
    }
   ],
   "source": [
    "linearRegressionAlgorithm=LinearRegression()\n",
    "linearRegressionAlgorithm.fit(x_train,y_train)\n",
    "y_pred=linearRegressionAlgorithm.predict(x_test)\n",
    "y_pred=np.around(y_pred,decimals=5)\n",
    "savetxt('predictions.csv',y_pred,delimiter=\",\")\n",
    "print(y_pred)"
   ]
  },
  {
   "cell_type": "code",
   "execution_count": null,
   "metadata": {},
   "outputs": [],
   "source": []
  }
 ],
 "metadata": {
  "kernelspec": {
   "display_name": "Python 3",
   "language": "python",
   "name": "python3"
  },
  "language_info": {
   "codemirror_mode": {
    "name": "ipython",
    "version": 3
   },
   "file_extension": ".py",
   "mimetype": "text/x-python",
   "name": "python",
   "nbconvert_exporter": "python",
   "pygments_lexer": "ipython3",
   "version": "3.7.4"
  }
 },
 "nbformat": 4,
 "nbformat_minor": 2
}
