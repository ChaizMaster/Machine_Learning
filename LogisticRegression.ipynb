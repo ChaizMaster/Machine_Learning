{
 "cells": [
  {
   "cell_type": "code",
   "execution_count": 5,
   "metadata": {},
   "outputs": [],
   "source": [
    "import numpy as np\n",
    "import pandas as pd\n",
    "from sklearn import datasets\n",
    "from sklearn.linear_model import LogisticRegression\n",
    "from sklearn.model_selection import train_test_split"
   ]
  },
  {
   "cell_type": "code",
   "execution_count": 6,
   "metadata": {},
   "outputs": [],
   "source": [
    "df=pd.read_csv('training_titanic_x_y_train.csv')\n",
    "df_test=pd.read_csv('test_titanic_x_test.csv')\n",
    "def add_age_to_null(columns):\n",
    "    Age = columns[0]\n",
    "    Pclass = columns[1]\n",
    "    if pd.isnull(Age):\n",
    "        return int(df[df[\"Pclass\"] == Pclass][\"Age\"].mean())\n",
    "    else:\n",
    "        return Age\n",
    "df[\"Age\"] = df[[\"Age\", \"Pclass\"]].apply(add_age_to_null,axis=1)\n",
    "df_test[\"Age\"]=df[[\"Age\",\"Pclass\"]].apply(add_age_to_null,axis=1)\n",
    "df.drop(\"Cabin\",inplace=True,axis=1)\n",
    "df_test.drop(\"Cabin\",inplace=True,axis=1)\n",
    "df.dropna(inplace=True)\n",
    "df_test.dropna(inplace=True)\n",
    "sex=pd.get_dummies(df[\"Sex\"],drop_first=True)\n",
    "sex_test=pd.get_dummies(df_test[\"Sex\"],drop_first=True)\n",
    "embarked = pd.get_dummies(df[\"Embarked\"],drop_first=True)\n",
    "embarked_test=pd.get_dummies(df_test[\"Embarked\"],drop_first=True)\n",
    "pclass = pd.get_dummies(df[\"Pclass\"],drop_first=True)\n",
    "pclass_test=pd.get_dummies(df_test[\"Pclass\"],drop_first=True)\n",
    "df= pd.concat([df,pclass,sex,embarked],axis=1)\n",
    "df_test=pd.concat([df_test,pclass_test,sex_test,embarked_test],axis=1)\n",
    "df.drop([\"Pclass\",\"Name\",\"Sex\",\"Ticket\",\"Embarked\"],axis=1,inplace=True)\n",
    "df_test.drop([\"Pclass\",\"Name\",\"Sex\",\"Ticket\",\"Embarked\"],axis=1,inplace=True)"
   ]
  },
  {
   "cell_type": "code",
   "execution_count": 7,
   "metadata": {},
   "outputs": [],
   "source": [
    "X = df.drop(\"Survived\",axis=1)\n",
    "y = df[\"Survived\"]\n",
    "X_train, X_test, y_train, y_test = train_test_split(X, y)"
   ]
  },
  {
   "cell_type": "code",
   "execution_count": 8,
   "metadata": {},
   "outputs": [
    {
     "name": "stderr",
     "output_type": "stream",
     "text": [
      "C:\\Users\\Torre\\AppData\\Local\\Continuum\\anaconda3\\lib\\site-packages\\sklearn\\linear_model\\logistic.py:432: FutureWarning: Default solver will be changed to 'lbfgs' in 0.22. Specify a solver to silence this warning.\n",
      "  FutureWarning)\n"
     ]
    }
   ],
   "source": [
    "clf = LogisticRegression()\n",
    "clf.fit(X_train,y_train)\n",
    "pred = clf.predict(X_test)\n",
    "final_pred=clf.predict(df_test)\n",
    "\n"
   ]
  },
  {
   "cell_type": "code",
   "execution_count": 10,
   "metadata": {},
   "outputs": [],
   "source": [
    "from numpy import savetxt\n",
    "savetxt('predictions.csv',final_pred,fmt=\"%1.0f\")"
   ]
  },
  {
   "cell_type": "code",
   "execution_count": null,
   "metadata": {},
   "outputs": [],
   "source": []
  }
 ],
 "metadata": {
  "kernelspec": {
   "display_name": "Python 3",
   "language": "python",
   "name": "python3"
  },
  "language_info": {
   "codemirror_mode": {
    "name": "ipython",
    "version": 3
   },
   "file_extension": ".py",
   "mimetype": "text/x-python",
   "name": "python",
   "nbconvert_exporter": "python",
   "pygments_lexer": "ipython3",
   "version": "3.7.4"
  }
 },
 "nbformat": 4,
 "nbformat_minor": 2
}
